{
 "cells": [
  {
   "cell_type": "markdown",
   "metadata": {},
   "source": [
    "### Difusión en matrices\n",
    "**Reglas de difusión**\n",
    "La difusión sigue un conjunto de reglas para determinar la interacción entre dos matrices:\n",
    "\n",
    "**Regla 1:** si las dos matrices difieren en el número de dimensiones, la forma de la que tiene menos dimensiones se rellena con unos en su lado inicial (el izquierdo).\n",
    "\n",
    "**Regla 2:** si la forma de las dos matrices no coincide en ninguna dimensión, la matriz con la forma igual a 1 en esa dimensión se extiende para que coincida con la otra forma.\n",
    "\n",
    "**Regla 3:** si, en cualquier dimensión, los tamaños no coinciden y ninguno es igual a 1, NumPy genera un error."
   ]
  },
  {
   "cell_type": "code",
   "execution_count": 3,
   "metadata": {},
   "outputs": [
    {
     "name": "stdout",
     "output_type": "stream",
     "text": [
      "[0 1 2]\n",
      "[[0]\n",
      " [1]\n",
      " [2]]\n"
     ]
    },
    {
     "data": {
      "text/plain": [
       "array([[0, 1, 2],\n",
       "       [1, 2, 3],\n",
       "       [2, 3, 4]])"
      ]
     },
     "execution_count": 3,
     "metadata": {},
     "output_type": "execute_result"
    }
   ],
   "source": [
    "import numpy as np\n",
    "horizontal_array = np.arange(3)\n",
    "vertical_array = np.arange(3)[:, np.newaxis]\n",
    "\n",
    "print(horizontal_array)\n",
    "print(vertical_array)\n",
    "horizontal_array + vertical_array"
   ]
  },
  {
   "cell_type": "code",
   "execution_count": 6,
   "metadata": {},
   "outputs": [
    {
     "name": "stdout",
     "output_type": "stream",
     "text": [
      "[[1. 1. 1.]\n",
      " [1. 1. 1.]]\n",
      "(2, 3)\n",
      "[0 1 2]\n",
      "(3,)\n"
     ]
    },
    {
     "data": {
      "text/plain": [
       "array([[1., 2., 3.],\n",
       "       [1., 2., 3.]])"
      ]
     },
     "execution_count": 6,
     "metadata": {},
     "output_type": "execute_result"
    }
   ],
   "source": [
    "two_dim_array = np.ones((2, 3))\n",
    "one_dim_array = np.arange(3)\n",
    "print(two_dim_array)\n",
    "print(two_dim_array.shape)\n",
    "print(one_dim_array)\n",
    "print(one_dim_array.shape)\n",
    "two_dim_array + one_dim_array"
   ]
  },
  {
   "cell_type": "markdown",
   "metadata": {},
   "source": [
    "### Ejemplo 2"
   ]
  },
  {
   "cell_type": "code",
   "execution_count": 9,
   "metadata": {},
   "outputs": [
    {
     "name": "stdout",
     "output_type": "stream",
     "text": [
      "[[0]\n",
      " [1]\n",
      " [2]]\n",
      "[0 1 2]\n"
     ]
    },
    {
     "data": {
      "text/plain": [
       "array([[0, 1, 2],\n",
       "       [1, 2, 3],\n",
       "       [2, 3, 4]])"
      ]
     },
     "execution_count": 9,
     "metadata": {},
     "output_type": "execute_result"
    }
   ],
   "source": [
    "vertical_array = np.arange(3).reshape((3, 1))\n",
    "print(vertical_array)\n",
    "horizontal_array = np.arange(3)\n",
    "print(horizontal_array)\n",
    "vertical_array + horizontal_array\n"
   ]
  },
  {
   "cell_type": "markdown",
   "metadata": {},
   "source": [
    "### Practica"
   ]
  },
  {
   "cell_type": "code",
   "execution_count": 10,
   "metadata": {},
   "outputs": [
    {
     "data": {
      "text/plain": [
       "array([[0.21764466, 0.3224898 , 0.49285608],\n",
       "       [0.84495459, 0.89842385, 0.98647683],\n",
       "       [0.23221854, 0.21083928, 0.96172544],\n",
       "       [0.60184934, 0.72944122, 0.28957288],\n",
       "       [0.14150013, 0.01298465, 0.8769569 ],\n",
       "       [0.87796013, 0.228217  , 0.58608088],\n",
       "       [0.53262039, 0.80560551, 0.92285682],\n",
       "       [0.10194044, 0.05674555, 0.46489143],\n",
       "       [0.43806665, 0.80105995, 0.93653   ],\n",
       "       [0.37280295, 0.61341773, 0.22489108]])"
      ]
     },
     "execution_count": 10,
     "metadata": {},
     "output_type": "execute_result"
    }
   ],
   "source": [
    "T = np.random.random((10, 3))\n",
    "T"
   ]
  },
  {
   "cell_type": "markdown",
   "metadata": {},
   "source": [
    "### Media en cada columna o variable"
   ]
  },
  {
   "cell_type": "code",
   "execution_count": 15,
   "metadata": {},
   "outputs": [
    {
     "data": {
      "text/plain": [
       "array([0.43615578, 0.46792245, 0.67428383])"
      ]
     },
     "execution_count": 15,
     "metadata": {},
     "output_type": "execute_result"
    }
   ],
   "source": [
    "Tmean = T.mean(0)\n",
    "Tmean"
   ]
  },
  {
   "cell_type": "code",
   "execution_count": 16,
   "metadata": {},
   "outputs": [
    {
     "data": {
      "text/plain": [
       "array([[-0.21851112, -0.14543266, -0.18142776],\n",
       "       [ 0.40879881,  0.43050139,  0.312193  ],\n",
       "       [-0.20393724, -0.25708317,  0.28744161],\n",
       "       [ 0.16569356,  0.26151877, -0.38471096],\n",
       "       [-0.29465565, -0.45493781,  0.20267307],\n",
       "       [ 0.44180435, -0.23970545, -0.08820296],\n",
       "       [ 0.09646461,  0.33768306,  0.24857299],\n",
       "       [-0.33421534, -0.4111769 , -0.2093924 ],\n",
       "       [ 0.00191086,  0.3331375 ,  0.26224617],\n",
       "       [-0.06335283,  0.14549527, -0.44939276]])"
      ]
     },
     "execution_count": 16,
     "metadata": {},
     "output_type": "execute_result"
    }
   ],
   "source": [
    "#Difusion\n",
    "T_centered = T - Tmean\n",
    "T_centered"
   ]
  },
  {
   "cell_type": "code",
   "execution_count": null,
   "metadata": {},
   "outputs": [],
   "source": []
  }
 ],
 "metadata": {
  "interpreter": {
   "hash": "275f955775ecec3fc0cf075b74850b2183bc3dc229457e35564b43684db7dd2f"
  },
  "kernelspec": {
   "display_name": "Python 3.7.3 ('envi': venv)",
   "language": "python",
   "name": "python3"
  },
  "language_info": {
   "codemirror_mode": {
    "name": "ipython",
    "version": 3
   },
   "file_extension": ".py",
   "mimetype": "text/x-python",
   "name": "python",
   "nbconvert_exporter": "python",
   "pygments_lexer": "ipython3",
   "version": "3.7.3"
  },
  "orig_nbformat": 4
 },
 "nbformat": 4,
 "nbformat_minor": 2
}
