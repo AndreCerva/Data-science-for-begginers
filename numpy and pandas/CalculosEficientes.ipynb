{
 "cells": [
  {
   "cell_type": "code",
   "execution_count": 5,
   "metadata": {},
   "outputs": [
    {
     "name": "stdout",
     "output_type": "stream",
     "text": [
      "[6 1 4 4 8]\n"
     ]
    },
    {
     "data": {
      "text/plain": [
       "array([0.16666667, 1.        , 0.25      , 0.25      , 0.125     ])"
      ]
     },
     "execution_count": 5,
     "metadata": {},
     "output_type": "execute_result"
    }
   ],
   "source": [
    "import numpy as np\n",
    "np.random.seed(0)\n",
    "\n",
    "def compute_reciprocals(values):\n",
    "    output = np.empty(len(values))\n",
    "    for i in range(len(values)):\n",
    "        output[i] = 1.0 / values[i]\n",
    "    return output\n",
    "\n",
    "values = np.random.randint(1, 10, size=5)\n",
    "print(values)\n",
    "compute_reciprocals(values)"
   ]
  },
  {
   "cell_type": "code",
   "execution_count": 6,
   "metadata": {},
   "outputs": [
    {
     "name": "stdout",
     "output_type": "stream",
     "text": [
      "3.54 s ± 516 ms per loop (mean ± std. dev. of 7 runs, 1 loop each)\n"
     ]
    }
   ],
   "source": [
    "big_array = np.random.randint(1, 100, size=1000000)\n",
    "%timeit compute_reciprocals(big_array)"
   ]
  },
  {
   "cell_type": "markdown",
   "metadata": {},
   "source": [
    "Dado a este tiempo que tarda python por el tipo de lenguaje de preogramacion que es, lo más optimo es trabajar con funciones universales de numpy (ufunc) que proporcionan una funcion compilada y de tipo estático para muchas de las operaciones que se deben ejecutar al manipular y analizar datos\n"
   ]
  },
  {
   "cell_type": "code",
   "execution_count": 7,
   "metadata": {},
   "outputs": [
    {
     "name": "stdout",
     "output_type": "stream",
     "text": [
      "2.99 ms ± 249 µs per loop (mean ± std. dev. of 7 runs, 100 loops each)\n"
     ]
    }
   ],
   "source": [
    "%timeit (1.0 / big_array)"
   ]
  },
  {
   "cell_type": "markdown",
   "metadata": {},
   "source": [
    "# Aritmetica de matrices"
   ]
  },
  {
   "cell_type": "code",
   "execution_count": 8,
   "metadata": {},
   "outputs": [
    {
     "name": "stdout",
     "output_type": "stream",
     "text": [
      "a     = [0 1 2 3]\n",
      "a + 5 = [5 6 7 8]\n",
      "a - 5 = [-5 -4 -3 -2]\n",
      "a * 2 = [0 2 4 6]\n",
      "a / 2 = [0.  0.5 1.  1.5]\n",
      "a // 2 = [0 0 1 1]\n"
     ]
    }
   ],
   "source": [
    "a = np.arange(4)\n",
    "print(\"a     =\", a)\n",
    "print(\"a + 5 =\", a + 5)\n",
    "print(\"a - 5 =\", a - 5)\n",
    "print(\"a * 2 =\", a * 2)\n",
    "print(\"a / 2 =\", a / 2)\n",
    "print(\"a // 2 =\", a // 2)  # Floor division"
   ]
  },
  {
   "cell_type": "markdown",
   "metadata": {},
   "source": [
    "Para negacion, exponenciacion y modulo"
   ]
  },
  {
   "cell_type": "code",
   "execution_count": 9,
   "metadata": {},
   "outputs": [
    {
     "name": "stdout",
     "output_type": "stream",
     "text": [
      "-a     =  [ 0 -1 -2 -3]\n",
      "a ** 2 =  [0 1 4 9]\n",
      "a % 2  =  [0 1 0 1]\n"
     ]
    }
   ],
   "source": [
    "print(\"-a     = \", -a)\n",
    "print(\"a ** 2 = \", a ** 2)\n",
    "print(\"a % 2  = \", a % 2)"
   ]
  },
  {
   "cell_type": "markdown",
   "metadata": {},
   "source": [
    "Ahora si, las ufunc"
   ]
  },
  {
   "cell_type": "code",
   "execution_count": 11,
   "metadata": {},
   "outputs": [
    {
     "data": {
      "text/plain": [
       "array([2, 1, 0, 1, 2])"
      ]
     },
     "execution_count": 11,
     "metadata": {},
     "output_type": "execute_result"
    }
   ],
   "source": [
    "np.add(a, 2)\n",
    "a = np.array([-2, -1, 0, 1, 2])\n",
    "abs(a)"
   ]
  },
  {
   "cell_type": "markdown",
   "metadata": {},
   "source": [
    "## Exponentes y logaritmos"
   ]
  },
  {
   "cell_type": "code",
   "execution_count": 12,
   "metadata": {},
   "outputs": [
    {
     "name": "stdout",
     "output_type": "stream",
     "text": [
      "a     = [1, 2, 3]\n",
      "e^a   = [ 2.71828183  7.3890561  20.08553692]\n",
      "2^a   = [2. 4. 8.]\n",
      "3^a   = [ 3  9 27]\n"
     ]
    }
   ],
   "source": [
    "a = [1, 2, 3]\n",
    "print(\"a     =\", a)\n",
    "print(\"e^a   =\", np.exp(a))\n",
    "print(\"2^a   =\", np.exp2(a))\n",
    "print(\"3^a   =\", np.power(3, a))"
   ]
  },
  {
   "cell_type": "markdown",
   "metadata": {},
   "source": [
    "# Logaritomo naural con np.log y base 2 y base10"
   ]
  },
  {
   "cell_type": "code",
   "execution_count": 13,
   "metadata": {},
   "outputs": [
    {
     "name": "stdout",
     "output_type": "stream",
     "text": [
      "a        = [1, 2, 4, 10]\n",
      "ln(a)    = [0.         0.69314718 1.38629436 2.30258509]\n",
      "log2(a)  = [0.         1.         2.         3.32192809]\n",
      "log10(a) = [0.         0.30103    0.60205999 1.        ]\n"
     ]
    }
   ],
   "source": [
    "a = [1, 2, 4, 10]\n",
    "print(\"a        =\", a)\n",
    "print(\"ln(a)    =\", np.log(a))\n",
    "print(\"log2(a)  =\", np.log2(a))\n",
    "print(\"log10(a) =\", np.log10(a))"
   ]
  },
  {
   "cell_type": "markdown",
   "metadata": {},
   "source": [
    "mas precision con "
   ]
  },
  {
   "cell_type": "code",
   "execution_count": 14,
   "metadata": {},
   "outputs": [
    {
     "name": "stdout",
     "output_type": "stream",
     "text": [
      "exp(a) - 1 = [0.         0.0010005  0.01005017 0.10517092]\n",
      "log(1 + a) = [0.         0.0009995  0.00995033 0.09531018]\n"
     ]
    }
   ],
   "source": [
    "a = [0, 0.001, 0.01, 0.1]\n",
    "print(\"exp(a) - 1 =\", np.expm1(a))\n",
    "print(\"log(1 + a) =\", np.log1p(a))"
   ]
  },
  {
   "cell_type": "markdown",
   "metadata": {},
   "source": [
    "# funciones especializadas"
   ]
  },
  {
   "cell_type": "code",
   "execution_count": 15,
   "metadata": {},
   "outputs": [
    {
     "name": "stdout",
     "output_type": "stream",
     "text": [
      "Collecting scipy\n",
      "  Using cached https://files.pythonhosted.org/packages/40/69/4af412d078cef2298f7d90546fa0e03e65a032558bd85319239c72ae0c3c/scipy-1.7.3-cp37-cp37m-win_amd64.whl\n",
      "Requirement already satisfied: numpy<1.23.0,>=1.16.5 in d:\\python\\data science y big data\\numpy and pandas\\envi\\lib\\site-packages (from scipy) (1.21.5)\n",
      "Installing collected packages: scipy\n",
      "Successfully installed scipy-1.7.3\n"
     ]
    },
    {
     "name": "stderr",
     "output_type": "stream",
     "text": [
      "You are using pip version 19.0.3, however version 22.0.4 is available.\n",
      "You should consider upgrading via the 'python -m pip install --upgrade pip' command.\n"
     ]
    },
    {
     "name": "stdout",
     "output_type": "stream",
     "text": [
      "gamma(a)     = [1.0000e+00 2.4000e+01 3.6288e+05]\n",
      "ln|gamma(a)| = [ 0.          3.17805383 12.80182748]\n",
      "beta(a, 2)   = [0.5        0.03333333 0.00909091]\n"
     ]
    }
   ],
   "source": [
    "!pip install scipy\n",
    "from scipy import special\n",
    "a = [1, 5, 10]\n",
    "print(\"gamma(a)     =\", special.gamma(a))\n",
    "print(\"ln|gamma(a)| =\", special.gammaln(a))\n",
    "print(\"beta(a, 2)   =\", special.beta(a, 2))"
   ]
  }
 ],
 "metadata": {
  "interpreter": {
   "hash": "275f955775ecec3fc0cf075b74850b2183bc3dc229457e35564b43684db7dd2f"
  },
  "kernelspec": {
   "display_name": "Python 3.7.3 ('envi': venv)",
   "language": "python",
   "name": "python3"
  },
  "language_info": {
   "codemirror_mode": {
    "name": "ipython",
    "version": 3
   },
   "file_extension": ".py",
   "mimetype": "text/x-python",
   "name": "python",
   "nbconvert_exporter": "python",
   "pygments_lexer": "ipython3",
   "version": "3.7.3"
  },
  "orig_nbformat": 4
 },
 "nbformat": 4,
 "nbformat_minor": 2
}
