{
 "cells": [
  {
   "cell_type": "code",
   "execution_count": 1,
   "metadata": {},
   "outputs": [],
   "source": [
    "import numpy as np\n",
    "import pandas as pd"
   ]
  },
  {
   "cell_type": "markdown",
   "metadata": {},
   "source": [
    "Los indices de un dataframe son realmente un objeto (OMG)\n"
   ]
  },
  {
   "cell_type": "code",
   "execution_count": 2,
   "metadata": {},
   "outputs": [
    {
     "data": {
      "text/plain": [
       "Index(['a', 'b', 'c', 'd'], dtype='object')"
      ]
     },
     "execution_count": 2,
     "metadata": {},
     "output_type": "execute_result"
    }
   ],
   "source": [
    "series_example = pd.Series([-0.5, 0.75, 1.0, -2], index=['a', 'b', 'c', 'd'])\n",
    "ind = series_example.index\n",
    "ind"
   ]
  },
  {
   "cell_type": "markdown",
   "metadata": {},
   "source": [
    "Pero los objetos Index son inmutables y no se pueden modificar por los medios habituales:"
   ]
  },
  {
   "cell_type": "code",
   "execution_count": 4,
   "metadata": {},
   "outputs": [],
   "source": [
    "ind_odd = pd.Index([1, 3, 5, 7, 9])\n",
    "ind_prime = pd.Index([2, 3, 5, 7, 11])"
   ]
  },
  {
   "cell_type": "code",
   "execution_count": 7,
   "metadata": {},
   "outputs": [
    {
     "name": "stderr",
     "output_type": "stream",
     "text": [
      "d:\\Python\\Data science y big data\\numpy and pandas\\envi\\lib\\site-packages\\ipykernel_launcher.py:2: FutureWarning: Index.__and__ operating as a set operation is deprecated, in the future this will be a logical operation matching Series.__and__.  Use index.intersection(other) instead\n",
      "  \n",
      "d:\\Python\\Data science y big data\\numpy and pandas\\envi\\lib\\site-packages\\ipykernel_launcher.py:4: FutureWarning: Index.__or__ operating as a set operation is deprecated, in the future this will be a logical operation matching Series.__or__.  Use index.union(other) instead\n",
      "  after removing the cwd from sys.path.\n",
      "d:\\Python\\Data science y big data\\numpy and pandas\\envi\\lib\\site-packages\\ipykernel_launcher.py:6: FutureWarning: Index.__xor__ operating as a set operation is deprecated, in the future this will be a logical operation matching Series.__xor__.  Use index.symmetric_difference(other) instead\n",
      "  \n"
     ]
    },
    {
     "data": {
      "text/plain": [
       "Int64Index([1, 2, 9, 11], dtype='int64')"
      ]
     },
     "execution_count": 7,
     "metadata": {},
     "output_type": "execute_result"
    }
   ],
   "source": [
    "#Intersepcion\n",
    "ind_odd & ind_prime\n",
    "#Union\n",
    "ind_odd | ind_prime\n",
    "#diferencia simetrica\n",
    "ind_odd ^ ind_prime"
   ]
  },
  {
   "cell_type": "markdown",
   "metadata": {},
   "source": [
    "append\tSe concatenan con objetos Index adicionales, lo que genera una nueva instancia de Index.\n",
    "\n",
    "diff\tCalculan la diferencia de conjuntos como una instancia de Index.\n",
    "\n",
    "drop\tCalculan una nueva instancia de Index mediante la eliminación de los valores pasados.\n",
    "\n",
    "insert\tCalculan una nueva instancia de Index mediante la inserción de un elemento en el índice i.\n",
    "\n",
    "is_monotonic\tDevuelve True si cada elemento es mayor o igual que el elemento anterior.\n",
    "\n",
    "is_unique\tDevuelve True si Index no tiene valores duplicados.\n",
    "\n",
    "isin\tCalculan una matriz booleana que indica si cada valor está incluido en la colección pasada.\n",
    "\n",
    "unique\tCalculan la matriz de valores únicos en orden de aparición."
   ]
  },
  {
   "cell_type": "markdown",
   "metadata": {},
   "source": []
  }
 ],
 "metadata": {
  "interpreter": {
   "hash": "275f955775ecec3fc0cf075b74850b2183bc3dc229457e35564b43684db7dd2f"
  },
  "kernelspec": {
   "display_name": "Python 3.7.3 ('envi': venv)",
   "language": "python",
   "name": "python3"
  },
  "language_info": {
   "codemirror_mode": {
    "name": "ipython",
    "version": 3
   },
   "file_extension": ".py",
   "mimetype": "text/x-python",
   "name": "python",
   "nbconvert_exporter": "python",
   "pygments_lexer": "ipython3",
   "version": "3.7.3"
  },
  "orig_nbformat": 4
 },
 "nbformat": 4,
 "nbformat_minor": 2
}
