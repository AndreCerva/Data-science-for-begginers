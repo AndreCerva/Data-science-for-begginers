{
 "cells": [
  {
   "cell_type": "markdown",
   "metadata": {},
   "source": [
    "##### Importamos la libreria de numpy (numeric-Python)"
   ]
  },
  {
   "cell_type": "code",
   "execution_count": 1,
   "metadata": {},
   "outputs": [],
   "source": [
    "import numpy as np"
   ]
  },
  {
   "cell_type": "markdown",
   "metadata": {},
   "source": [
    "##### Cuando se trabaja con las matrices o vectores de numpy se tiene una optimización en cuanto a almacenamiento de memoria dado a que en una lista normal todo el contenido de ella es un objeto distinto, y en un np.array todo el vector por completo es un objeto unico, se ahorra mucho espacio de memoria"
   ]
  },
  {
   "cell_type": "code",
   "execution_count": 9,
   "metadata": {},
   "outputs": [
    {
     "data": {
      "text/plain": [
       "numpy.ndarray"
      ]
     },
     "execution_count": 9,
     "metadata": {},
     "output_type": "execute_result"
    }
   ],
   "source": [
    "vectorcito=np.array([1,2,3,4,5,6,7,8,9,10])\n",
    "type(vectorcito)\n"
   ]
  },
  {
   "cell_type": "markdown",
   "metadata": {},
   "source": [
    "##### Si intentamos conbinar tipos de datos distintos dentro de un arreglo, numpy intentara convertir todo a un mismo tipo"
   ]
  },
  {
   "cell_type": "code",
   "execution_count": 11,
   "metadata": {},
   "outputs": [
    {
     "name": "stdout",
     "output_type": "stream",
     "text": [
      "['1.43' '5' 'washawasha' 'True']\n"
     ]
    }
   ],
   "source": [
    "vectorcito=np.array([1.43,5,'washawasha',True])\n",
    "print(vectorcito)"
   ]
  },
  {
   "cell_type": "markdown",
   "metadata": {},
   "source": [
    "##### Podemos obligar a nuestro vector a que sea de un determinado tipo de dato"
   ]
  },
  {
   "cell_type": "code",
   "execution_count": 12,
   "metadata": {},
   "outputs": [
    {
     "name": "stdout",
     "output_type": "stream",
     "text": [
      "[  1   2 332]\n"
     ]
    }
   ],
   "source": [
    "vectorcito=np.array([1.23,2.34,332.43], dtype='int32')\n",
    "print(vectorcito)"
   ]
  },
  {
   "cell_type": "markdown",
   "metadata": {},
   "source": [
    "##### Crear matrices y vectores desde cero"
   ]
  },
  {
   "cell_type": "code",
   "execution_count": 14,
   "metadata": {},
   "outputs": [
    {
     "name": "stdout",
     "output_type": "stream",
     "text": [
      "[[1. 1. 1. 1.]\n",
      " [1. 1. 1. 1.]\n",
      " [1. 1. 1. 1.]]\n"
     ]
    }
   ],
   "source": [
    "matriz3x4=np.ones((3,4),dtype='float') #3 filas y 4 columnas\n",
    "print(matriz3x4)"
   ]
  },
  {
   "cell_type": "markdown",
   "metadata": {},
   "source": [
    "##### para ceros igual"
   ]
  },
  {
   "cell_type": "code",
   "execution_count": 15,
   "metadata": {},
   "outputs": [
    {
     "name": "stdout",
     "output_type": "stream",
     "text": [
      "[[0. 0. 0. 0.]\n",
      " [0. 0. 0. 0.]\n",
      " [0. 0. 0. 0.]]\n"
     ]
    }
   ],
   "source": [
    "Matriz0=np.zeros((3,4),dtype='float') #3 filas y 4 columnas\n",
    "print(Matriz0)"
   ]
  },
  {
   "cell_type": "markdown",
   "metadata": {},
   "source": [
    "#### Si queremos que toda la matriz este multiplicada por un num"
   ]
  },
  {
   "cell_type": "code",
   "execution_count": 18,
   "metadata": {},
   "outputs": [
    {
     "name": "stdout",
     "output_type": "stream",
     "text": [
      "[[54 54]\n",
      " [54 54]\n",
      " [54 54]]\n"
     ]
    }
   ],
   "source": [
    "vectorcito=np.full((3,2),54)\n",
    "print(vectorcito)"
   ]
  },
  {
   "cell_type": "markdown",
   "metadata": {},
   "source": [
    "##### Matrices rellenadas con una secuencia lineal"
   ]
  },
  {
   "cell_type": "code",
   "execution_count": 19,
   "metadata": {},
   "outputs": [
    {
     "name": "stdout",
     "output_type": "stream",
     "text": [
      "[0 2 4 6 8]\n"
     ]
    }
   ],
   "source": [
    "vector=np.arange(0,10,2)#crea un vector de 0 a 10 con pasos de 2\n",
    "print(vector)"
   ]
  },
  {
   "cell_type": "markdown",
   "metadata": {},
   "source": [
    "### vectores espaciados uniformemente"
   ]
  },
  {
   "cell_type": "code",
   "execution_count": 24,
   "metadata": {},
   "outputs": [
    {
     "name": "stdout",
     "output_type": "stream",
     "text": [
      "[ 0. 10.]\n"
     ]
    }
   ],
   "source": [
    "matriz=np.linspace(0,10,2) #vector espaciado uniformemente entre 0 y 10 en cantidad de 5 veces\n",
    "print(matriz)"
   ]
  },
  {
   "cell_type": "markdown",
   "metadata": {},
   "source": [
    "###### Matriz 3x3 con valores aleatorios"
   ]
  },
  {
   "cell_type": "code",
   "execution_count": 25,
   "metadata": {},
   "outputs": [
    {
     "name": "stdout",
     "output_type": "stream",
     "text": [
      "[[0.45308666 0.79593692 0.86674489 0.92018903]\n",
      " [0.15356482 0.5939364  0.58221567 0.99951771]\n",
      " [0.7091693  0.85161905 0.98684125 0.02595622]]\n"
     ]
    }
   ],
   "source": [
    "matricita=np.random.random((3,4)) #matriz de 3 filas y 4 columnas con numeros aleatorios\n",
    "print(matricita)"
   ]
  },
  {
   "cell_type": "markdown",
   "metadata": {},
   "source": [
    "#### Matriz de 3x3 con valores aleatorio y desviacion estandar de 1"
   ]
  },
  {
   "cell_type": "code",
   "execution_count": 26,
   "metadata": {},
   "outputs": [
    {
     "data": {
      "text/plain": [
       "array([[-1.47307593, -0.10800565, -1.2889411 ],\n",
       "       [-0.28991063,  0.95900847,  1.38232943],\n",
       "       [-0.07937717,  0.03389465,  0.93032571]])"
      ]
     },
     "execution_count": 26,
     "metadata": {},
     "output_type": "execute_result"
    }
   ],
   "source": [
    "np.random.normal(0, 1, (3, 3))"
   ]
  },
  {
   "cell_type": "markdown",
   "metadata": {},
   "source": [
    "##### Matriz identidad 3x3"
   ]
  },
  {
   "cell_type": "code",
   "execution_count": 30,
   "metadata": {},
   "outputs": [
    {
     "data": {
      "text/plain": [
       "array([[1., 0.],\n",
       "       [0., 1.]])"
      ]
     },
     "execution_count": 30,
     "metadata": {},
     "output_type": "execute_result"
    }
   ],
   "source": [
    "np.eye(2) #matriz identidad"
   ]
  },
  {
   "cell_type": "markdown",
   "metadata": {},
   "source": [
    "#### Funciones de numpy para crear matrices\n",
    "\n",
    "**array** Convierte los datos de entrada (lista, tupla, matriz u otro tipo de secuencia) en un objeto ndarray, ya sea mediante la inferencia de un valor dtype o la especificación explícita de un valor dtype. Copia los datos de entrada de forma predeterminada.\n",
    "\n",
    "**asarray**\tConvierte la entrada en un objeto ndarray pero no copia si la entrada ya es un objeto ndarray.\n",
    "\n",
    "**arange**\tEs similar a la función range() integrada, pero devuelve un objeto ndarray en lugar de una lista.\n",
    "\n",
    "**ones, ones_like**\tones genera una matriz de unos con la forma y el valor dtypeespecificados. \n",
    "ones_like toma otra matriz y genera una matriz de unos de la misma forma y dtype.\n",
    "\n",
    "**zeros, zeros_like**\tSimilar a ones y ones_like, pero que genera matrices de ceros en su lugar.\n",
    "\n",
    "**empty, empty_like**\tCree nuevas matrices mediante la asignación de memoria nueva, pero no rellene con valores como hacen ones y zeros .\n",
    "**full, full_like**\tfull genera una matriz con la forma y el valor dtype especificados, con todos los valores establecidos en el \"valor de relleno\" indicado.\n",
    "full_like toma otra matriz y genera una matriz rellenada con la misma forma y dtype.\n",
    "\n",
    "**eye, identity**\tCree una matriz de identidad N x N cuadrada (unos en la diagonal y ceros en el resto)."
   ]
  },
  {
   "cell_type": "code",
   "execution_count": 36,
   "metadata": {},
   "outputs": [
    {
     "name": "stdout",
     "output_type": "stream",
     "text": [
      "[[ 1.  2.  3.  4.  5.]\n",
      " [ 6.  7.  8.  9. 10.]]\n",
      "[[ 1  2  3  4  5]\n",
      " [ 6  7  8  9 10]]\n",
      "[10.  20.1 30.2 40.3 50.4 60.5 70.6 80.7 90.8]\n"
     ]
    }
   ],
   "source": [
    "arr=np.array([[1,2,3,4,5],[6,7,8,9,10]],dtype='float')\n",
    "print(arr)\n",
    "arr2=np.asarray([[1,2,3,4,5],[6,7,8,9,10]])\n",
    "print(arr2)\n",
    "range=np.arange(10,100,10.1)\n",
    "print(range)"
   ]
  },
  {
   "cell_type": "markdown",
   "metadata": {},
   "source": []
  }
 ],
 "metadata": {
  "interpreter": {
   "hash": "275f955775ecec3fc0cf075b74850b2183bc3dc229457e35564b43684db7dd2f"
  },
  "kernelspec": {
   "display_name": "Python 3.7.3 ('envi': venv)",
   "language": "python",
   "name": "python3"
  },
  "language_info": {
   "name": "python",
   "version": "3.7.3"
  },
  "orig_nbformat": 4
 },
 "nbformat": 4,
 "nbformat_minor": 2
}
