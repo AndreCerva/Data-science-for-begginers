{
 "cells": [
  {
   "cell_type": "markdown",
   "metadata": {},
   "source": [
    "#### Objetos Series y Dataframes"
   ]
  },
  {
   "cell_type": "code",
   "execution_count": 2,
   "metadata": {},
   "outputs": [],
   "source": [
    "import pandas as pd\n",
    "import numpy as np"
   ]
  },
  {
   "cell_type": "markdown",
   "metadata": {},
   "source": [
    "## Series\n",
    "Un objeto Series de Pandas es muy similar a un elemento ndarray de NumPy: una matriz unidimensional de datos indexados. Puede crear un objeto Series simple a partir de una matriz de datos de la siguiente manera:"
   ]
  },
  {
   "cell_type": "code",
   "execution_count": 4,
   "metadata": {},
   "outputs": [
    {
     "name": "stdout",
     "output_type": "stream",
     "text": [
      "[  1.     2.     3.    -4.     0.54 364.     0.42]\n",
      "0      1.00\n",
      "1      2.00\n",
      "2      3.00\n",
      "3     -4.00\n",
      "4      0.54\n",
      "5    364.00\n",
      "6      0.42\n",
      "dtype: float64\n"
     ]
    }
   ],
   "source": [
    "array=np.array([1,2,3,-4,0.54,364,0.42])\n",
    "print(array)\n",
    "Series_example = pd.Series(array)\n",
    "print(Series_example)"
   ]
  },
  {
   "cell_type": "markdown",
   "metadata": {},
   "source": [
    "Series ajusta automáticamente una secuencia de valores y una de índices. Se trata de dos objetos independientes dentro del objeto Series, a los que puede acceder con los atributos values y index."
   ]
  },
  {
   "cell_type": "code",
   "execution_count": 12,
   "metadata": {},
   "outputs": [
    {
     "data": {
      "text/plain": [
       "0    1.0\n",
       "1    2.0\n",
       "2    3.0\n",
       "3   -4.0\n",
       "dtype: float64"
      ]
     },
     "execution_count": 12,
     "metadata": {},
     "output_type": "execute_result"
    }
   ],
   "source": [
    "Series_example.values\n",
    "Series_example.index\n",
    "Series_example[1]\n",
    "Series_example[0:4]"
   ]
  },
  {
   "cell_type": "markdown",
   "metadata": {},
   "source": [
    "Establecer el indice en un objeto Serie"
   ]
  },
  {
   "cell_type": "code",
   "execution_count": 16,
   "metadata": {},
   "outputs": [
    {
     "data": {
      "text/plain": [
       "a      1.00\n",
       "b      2.00\n",
       "c      3.00\n",
       "d     -4.00\n",
       "e      0.54\n",
       "f    364.00\n",
       "g      0.42\n",
       "dtype: float64"
      ]
     },
     "execution_count": 16,
     "metadata": {},
     "output_type": "execute_result"
    }
   ],
   "source": [
    "Series_example2 = pd.Series(array, index=['a', 'b', 'c', 'd','e','f','g'])\n",
    "Series_example2"
   ]
  },
  {
   "cell_type": "code",
   "execution_count": 20,
   "metadata": {},
   "outputs": [
    {
     "data": {
      "text/plain": [
       "a      1.00\n",
       "b      2.00\n",
       "c      3.00\n",
       "d     -4.00\n",
       "e      0.54\n",
       "f    364.00\n",
       "g      0.42\n",
       "dtype: float64"
      ]
     },
     "execution_count": 20,
     "metadata": {},
     "output_type": "execute_result"
    }
   ],
   "source": [
    "Serie2=Series_example2['a':'d']\n",
    "Series_example2\n"
   ]
  },
  {
   "cell_type": "markdown",
   "metadata": {},
   "source": [
    "# Construir un objero Series desde un diccionario de Python"
   ]
  },
  {
   "cell_type": "code",
   "execution_count": 37,
   "metadata": {},
   "outputs": [
    {
     "data": {
      "text/plain": [
       "France      65429495\n",
       "Russia     143910127\n",
       "Germany     82408706\n",
       "Japan      126922333\n",
       "dtype: int64"
      ]
     },
     "execution_count": 37,
     "metadata": {},
     "output_type": "execute_result"
    }
   ],
   "source": [
    "population_dict = { 'France': 65429495,\n",
    "                    'Russia': 143910127,\n",
    "                    'Germany': 82408706,\n",
    "                    'Japan': 126922333 }\n",
    "population = pd.Series(population_dict)\n",
    "population"
   ]
  },
  {
   "cell_type": "code",
   "execution_count": 38,
   "metadata": {},
   "outputs": [
    {
     "data": {
      "text/plain": [
       "France      65429495\n",
       "Russia     143910127\n",
       "Germany     82408706\n",
       "Japan      126922333\n",
       "México          2345\n",
       "dtype: int64"
      ]
     },
     "execution_count": 38,
     "metadata": {},
     "output_type": "execute_result"
    }
   ],
   "source": [
    "population['México']=2345\n",
    "population"
   ]
  },
  {
   "cell_type": "markdown",
   "metadata": {},
   "source": [
    "Series alinea automáticamente datos indexados de manera diferente en operaciones aritméticas:"
   ]
  },
  {
   "cell_type": "code",
   "execution_count": 39,
   "metadata": {},
   "outputs": [
    {
     "data": {
      "text/plain": [
       "Albania           NaN\n",
       "France     65531816.0\n",
       "Germany           NaN\n",
       "Japan             NaN\n",
       "México            NaN\n",
       "Russia            NaN\n",
       "Spain             NaN\n",
       "dtype: float64"
      ]
     },
     "execution_count": 39,
     "metadata": {},
     "output_type": "execute_result"
    }
   ],
   "source": [
    "pop2 = pd.Series({'Spain': 46432074, 'France': 102321, 'Albania': 50532})\n",
    "population + pop2\n"
   ]
  },
  {
   "cell_type": "markdown",
   "metadata": {},
   "source": [
    "Pandas no trata los valores que faltan como 0, sino como NaN."
   ]
  },
  {
   "cell_type": "markdown",
   "metadata": {},
   "source": [
    "# Objeto DataFrame\n",
    "Un objeto DataFrame representa una tabla de datos rectangular y contiene una colección ordenada de columnas con etiqueta DataFrame tiene un índice de fila y de columna. Puede considerarlo como un diccionario de objetos Series"
   ]
  },
  {
   "cell_type": "code",
   "execution_count": 3,
   "metadata": {},
   "outputs": [
    {
     "name": "stdout",
     "output_type": "stream",
     "text": [
      "Albania       28748\n",
      "France       643801\n",
      "Germany      357386\n",
      "Japan        377972\n",
      "Russia     17125200\n",
      "dtype: int64\n",
      "France      65429495\n",
      "Germany     82408706\n",
      "Russia     143910127\n",
      "Japan      126922333\n",
      "Albania        23456\n",
      "dtype: int64\n"
     ]
    }
   ],
   "source": [
    "import pandas as pd\n",
    "area_dict = {'Albania': 28748,\n",
    "             'France': 643801,\n",
    "             'Germany': 357386,\n",
    "             'Japan': 377972,\n",
    "             'Russia': 17125200}\n",
    "area = pd.Series(area_dict)\n",
    "population_dict = { 'France': 65429495,\n",
    "                    'Germany': 82408706,\n",
    "                    'Russia': 143910127,\n",
    "                    'Japan': 126922333 }\n",
    "population = pd.Series(population_dict)\n",
    "population['Albania']=23456\n",
    "\n",
    "print(area)\n",
    "print(population)"
   ]
  },
  {
   "cell_type": "code",
   "execution_count": 8,
   "metadata": {},
   "outputs": [
    {
     "data": {
      "text/html": [
       "<div>\n",
       "<style scoped>\n",
       "    .dataframe tbody tr th:only-of-type {\n",
       "        vertical-align: middle;\n",
       "    }\n",
       "\n",
       "    .dataframe tbody tr th {\n",
       "        vertical-align: top;\n",
       "    }\n",
       "\n",
       "    .dataframe thead th {\n",
       "        text-align: right;\n",
       "    }\n",
       "</style>\n",
       "<table border=\"1\" class=\"dataframe\">\n",
       "  <thead>\n",
       "    <tr style=\"text-align: right;\">\n",
       "      <th></th>\n",
       "      <th>Area</th>\n",
       "      <th>Population</th>\n",
       "      <th>Capital</th>\n",
       "    </tr>\n",
       "  </thead>\n",
       "  <tbody>\n",
       "    <tr>\n",
       "      <th>Albania</th>\n",
       "      <td>28748</td>\n",
       "      <td>23456</td>\n",
       "      <td>Tirana</td>\n",
       "    </tr>\n",
       "    <tr>\n",
       "      <th>France</th>\n",
       "      <td>643801</td>\n",
       "      <td>65429495</td>\n",
       "      <td>Paris</td>\n",
       "    </tr>\n",
       "    <tr>\n",
       "      <th>Germany</th>\n",
       "      <td>357386</td>\n",
       "      <td>82408706</td>\n",
       "      <td>Berlin</td>\n",
       "    </tr>\n",
       "    <tr>\n",
       "      <th>Japan</th>\n",
       "      <td>377972</td>\n",
       "      <td>126922333</td>\n",
       "      <td>Tokyo</td>\n",
       "    </tr>\n",
       "    <tr>\n",
       "      <th>Russia</th>\n",
       "      <td>17125200</td>\n",
       "      <td>143910127</td>\n",
       "      <td>Moscow</td>\n",
       "    </tr>\n",
       "  </tbody>\n",
       "</table>\n",
       "</div>"
      ],
      "text/plain": [
       "             Area  Population Capital\n",
       "Albania     28748       23456  Tirana\n",
       "France     643801    65429495   Paris\n",
       "Germany    357386    82408706  Berlin\n",
       "Japan      377972   126922333   Tokyo\n",
       "Russia   17125200   143910127  Moscow"
      ]
     },
     "execution_count": 8,
     "metadata": {},
     "output_type": "execute_result"
    }
   ],
   "source": [
    "df=pd.DataFrame({'Area':area, 'Population':population})\n",
    "df['Capital']=['Tirana', 'Paris', 'Berlin', 'Tokyo', 'Moscow']\n",
    "df"
   ]
  },
  {
   "cell_type": "markdown",
   "metadata": {},
   "source": [
    "Puede cambiar el orden de las columnas"
   ]
  },
  {
   "cell_type": "code",
   "execution_count": 21,
   "metadata": {},
   "outputs": [
    {
     "data": {
      "text/html": [
       "<div>\n",
       "<style scoped>\n",
       "    .dataframe tbody tr th:only-of-type {\n",
       "        vertical-align: middle;\n",
       "    }\n",
       "\n",
       "    .dataframe tbody tr th {\n",
       "        vertical-align: top;\n",
       "    }\n",
       "\n",
       "    .dataframe thead th {\n",
       "        text-align: right;\n",
       "    }\n",
       "</style>\n",
       "<table border=\"1\" class=\"dataframe\">\n",
       "  <thead>\n",
       "    <tr style=\"text-align: right;\">\n",
       "      <th></th>\n",
       "      <th>Population</th>\n",
       "      <th>Capital</th>\n",
       "      <th>Area</th>\n",
       "    </tr>\n",
       "  </thead>\n",
       "  <tbody>\n",
       "    <tr>\n",
       "      <th>Albania</th>\n",
       "      <td>23456</td>\n",
       "      <td>Tirana</td>\n",
       "      <td>28748</td>\n",
       "    </tr>\n",
       "    <tr>\n",
       "      <th>France</th>\n",
       "      <td>65429495</td>\n",
       "      <td>Paris</td>\n",
       "      <td>643801</td>\n",
       "    </tr>\n",
       "    <tr>\n",
       "      <th>Germany</th>\n",
       "      <td>82408706</td>\n",
       "      <td>Berlin</td>\n",
       "      <td>357386</td>\n",
       "    </tr>\n",
       "    <tr>\n",
       "      <th>Japan</th>\n",
       "      <td>126922333</td>\n",
       "      <td>Tokyo</td>\n",
       "      <td>377972</td>\n",
       "    </tr>\n",
       "    <tr>\n",
       "      <th>Russia</th>\n",
       "      <td>143910127</td>\n",
       "      <td>Moscow</td>\n",
       "      <td>17125200</td>\n",
       "    </tr>\n",
       "  </tbody>\n",
       "</table>\n",
       "</div>"
      ],
      "text/plain": [
       "         Population Capital      Area\n",
       "Albania       23456  Tirana     28748\n",
       "France     65429495   Paris    643801\n",
       "Germany    82408706  Berlin    357386\n",
       "Japan     126922333   Tokyo    377972\n",
       "Russia    143910127  Moscow  17125200"
      ]
     },
     "execution_count": 21,
     "metadata": {},
     "output_type": "execute_result"
    }
   ],
   "source": [
    "df=df[['Population','Capital','Area']]\n",
    "df"
   ]
  },
  {
   "cell_type": "markdown",
   "metadata": {},
   "source": [
    "Generar nuevas columnas de datos a partir de otros datos en el data frame"
   ]
  },
  {
   "cell_type": "code",
   "execution_count": 23,
   "metadata": {},
   "outputs": [
    {
     "data": {
      "text/html": [
       "<div>\n",
       "<style scoped>\n",
       "    .dataframe tbody tr th:only-of-type {\n",
       "        vertical-align: middle;\n",
       "    }\n",
       "\n",
       "    .dataframe tbody tr th {\n",
       "        vertical-align: top;\n",
       "    }\n",
       "\n",
       "    .dataframe thead th {\n",
       "        text-align: right;\n",
       "    }\n",
       "</style>\n",
       "<table border=\"1\" class=\"dataframe\">\n",
       "  <thead>\n",
       "    <tr style=\"text-align: right;\">\n",
       "      <th></th>\n",
       "      <th>Population</th>\n",
       "      <th>Capital</th>\n",
       "      <th>Area</th>\n",
       "      <th>Population Density</th>\n",
       "    </tr>\n",
       "  </thead>\n",
       "  <tbody>\n",
       "    <tr>\n",
       "      <th>Albania</th>\n",
       "      <td>23456</td>\n",
       "      <td>Tirana</td>\n",
       "      <td>28748</td>\n",
       "      <td>0.815918</td>\n",
       "    </tr>\n",
       "    <tr>\n",
       "      <th>France</th>\n",
       "      <td>65429495</td>\n",
       "      <td>Paris</td>\n",
       "      <td>643801</td>\n",
       "      <td>101.629999</td>\n",
       "    </tr>\n",
       "    <tr>\n",
       "      <th>Germany</th>\n",
       "      <td>82408706</td>\n",
       "      <td>Berlin</td>\n",
       "      <td>357386</td>\n",
       "      <td>230.587393</td>\n",
       "    </tr>\n",
       "    <tr>\n",
       "      <th>Japan</th>\n",
       "      <td>126922333</td>\n",
       "      <td>Tokyo</td>\n",
       "      <td>377972</td>\n",
       "      <td>335.798242</td>\n",
       "    </tr>\n",
       "    <tr>\n",
       "      <th>Russia</th>\n",
       "      <td>143910127</td>\n",
       "      <td>Moscow</td>\n",
       "      <td>17125200</td>\n",
       "      <td>8.403413</td>\n",
       "    </tr>\n",
       "  </tbody>\n",
       "</table>\n",
       "</div>"
      ],
      "text/plain": [
       "         Population Capital      Area  Population Density\n",
       "Albania       23456  Tirana     28748            0.815918\n",
       "France     65429495   Paris    643801          101.629999\n",
       "Germany    82408706  Berlin    357386          230.587393\n",
       "Japan     126922333   Tokyo    377972          335.798242\n",
       "Russia    143910127  Moscow  17125200            8.403413"
      ]
     },
     "execution_count": 23,
     "metadata": {},
     "output_type": "execute_result"
    }
   ],
   "source": [
    "df['Population Density']=df['Population']/df['Area']\n",
    "df"
   ]
  },
  {
   "cell_type": "code",
   "execution_count": 24,
   "metadata": {},
   "outputs": [
    {
     "data": {
      "text/plain": [
       "'Tenga en cuenta que lo que devuelve el método .loc es un objeto indexado por sí mismo, y puede acceder \\na los elementos que contiene mediante una sintaxis de índice conocida:'"
      ]
     },
     "execution_count": 24,
     "metadata": {},
     "output_type": "execute_result"
    }
   ],
   "source": [
    "df['Area'] #PAra acceder a los valores de una columnas\n",
    "df.loc['Japan'] #Para acceder a los valores de una fila\n",
    "\"\"\"Tenga en cuenta que lo que devuelve el método .loc es un objeto indexado por sí mismo, y puede acceder \n",
    "a los elementos que contiene mediante una sintaxis de índice conocida:\"\"\""
   ]
  },
  {
   "cell_type": "code",
   "execution_count": 25,
   "metadata": {},
   "outputs": [
    {
     "data": {
      "text/plain": [
       "377972"
      ]
     },
     "execution_count": 25,
     "metadata": {},
     "output_type": "execute_result"
    }
   ],
   "source": [
    "df.loc['Japan']['Area']"
   ]
  },
  {
   "cell_type": "markdown",
   "metadata": {},
   "source": [
    "# Asignar una columna al df sin valores"
   ]
  },
  {
   "cell_type": "code",
   "execution_count": 26,
   "metadata": {},
   "outputs": [
    {
     "data": {
      "text/html": [
       "<div>\n",
       "<style scoped>\n",
       "    .dataframe tbody tr th:only-of-type {\n",
       "        vertical-align: middle;\n",
       "    }\n",
       "\n",
       "    .dataframe tbody tr th {\n",
       "        vertical-align: top;\n",
       "    }\n",
       "\n",
       "    .dataframe thead th {\n",
       "        text-align: right;\n",
       "    }\n",
       "</style>\n",
       "<table border=\"1\" class=\"dataframe\">\n",
       "  <thead>\n",
       "    <tr style=\"text-align: right;\">\n",
       "      <th></th>\n",
       "      <th>Population</th>\n",
       "      <th>Capital</th>\n",
       "      <th>Area</th>\n",
       "      <th>Population Density</th>\n",
       "      <th>Debt-to-GDP Ratio</th>\n",
       "    </tr>\n",
       "  </thead>\n",
       "  <tbody>\n",
       "    <tr>\n",
       "      <th>Albania</th>\n",
       "      <td>23456</td>\n",
       "      <td>Tirana</td>\n",
       "      <td>28748</td>\n",
       "      <td>0.815918</td>\n",
       "      <td>NaN</td>\n",
       "    </tr>\n",
       "    <tr>\n",
       "      <th>France</th>\n",
       "      <td>65429495</td>\n",
       "      <td>Paris</td>\n",
       "      <td>643801</td>\n",
       "      <td>101.629999</td>\n",
       "      <td>NaN</td>\n",
       "    </tr>\n",
       "    <tr>\n",
       "      <th>Germany</th>\n",
       "      <td>82408706</td>\n",
       "      <td>Berlin</td>\n",
       "      <td>357386</td>\n",
       "      <td>230.587393</td>\n",
       "      <td>NaN</td>\n",
       "    </tr>\n",
       "    <tr>\n",
       "      <th>Japan</th>\n",
       "      <td>126922333</td>\n",
       "      <td>Tokyo</td>\n",
       "      <td>377972</td>\n",
       "      <td>335.798242</td>\n",
       "      <td>NaN</td>\n",
       "    </tr>\n",
       "    <tr>\n",
       "      <th>Russia</th>\n",
       "      <td>143910127</td>\n",
       "      <td>Moscow</td>\n",
       "      <td>17125200</td>\n",
       "      <td>8.403413</td>\n",
       "      <td>NaN</td>\n",
       "    </tr>\n",
       "  </tbody>\n",
       "</table>\n",
       "</div>"
      ],
      "text/plain": [
       "         Population Capital      Area  Population Density  Debt-to-GDP Ratio\n",
       "Albania       23456  Tirana     28748            0.815918                NaN\n",
       "France     65429495   Paris    643801          101.629999                NaN\n",
       "Germany    82408706  Berlin    357386          230.587393                NaN\n",
       "Japan     126922333   Tokyo    377972          335.798242                NaN\n",
       "Russia    143910127  Moscow  17125200            8.403413                NaN"
      ]
     },
     "execution_count": 26,
     "metadata": {},
     "output_type": "execute_result"
    }
   ],
   "source": [
    "import numpy as np\n",
    "df['Debt-to-GDP Ratio'] = np.nan\n",
    "df"
   ]
  },
  {
   "cell_type": "markdown",
   "metadata": {},
   "source": [
    "También puede agregar columnas a un objeto DataFrame que no tenga el mismo número de filas que DataFrame:"
   ]
  },
  {
   "cell_type": "code",
   "execution_count": 27,
   "metadata": {},
   "outputs": [
    {
     "data": {
      "text/html": [
       "<div>\n",
       "<style scoped>\n",
       "    .dataframe tbody tr th:only-of-type {\n",
       "        vertical-align: middle;\n",
       "    }\n",
       "\n",
       "    .dataframe tbody tr th {\n",
       "        vertical-align: top;\n",
       "    }\n",
       "\n",
       "    .dataframe thead th {\n",
       "        text-align: right;\n",
       "    }\n",
       "</style>\n",
       "<table border=\"1\" class=\"dataframe\">\n",
       "  <thead>\n",
       "    <tr style=\"text-align: right;\">\n",
       "      <th></th>\n",
       "      <th>Population</th>\n",
       "      <th>Capital</th>\n",
       "      <th>Area</th>\n",
       "      <th>Population Density</th>\n",
       "      <th>Debt-to-GDP Ratio</th>\n",
       "    </tr>\n",
       "  </thead>\n",
       "  <tbody>\n",
       "    <tr>\n",
       "      <th>Albania</th>\n",
       "      <td>23456</td>\n",
       "      <td>Tirana</td>\n",
       "      <td>28748</td>\n",
       "      <td>0.815918</td>\n",
       "      <td>NaN</td>\n",
       "    </tr>\n",
       "    <tr>\n",
       "      <th>France</th>\n",
       "      <td>65429495</td>\n",
       "      <td>Paris</td>\n",
       "      <td>643801</td>\n",
       "      <td>101.629999</td>\n",
       "      <td>NaN</td>\n",
       "    </tr>\n",
       "    <tr>\n",
       "      <th>Germany</th>\n",
       "      <td>82408706</td>\n",
       "      <td>Berlin</td>\n",
       "      <td>357386</td>\n",
       "      <td>230.587393</td>\n",
       "      <td>NaN</td>\n",
       "    </tr>\n",
       "    <tr>\n",
       "      <th>Japan</th>\n",
       "      <td>126922333</td>\n",
       "      <td>Tokyo</td>\n",
       "      <td>377972</td>\n",
       "      <td>335.798242</td>\n",
       "      <td>2.36</td>\n",
       "    </tr>\n",
       "    <tr>\n",
       "      <th>Russia</th>\n",
       "      <td>143910127</td>\n",
       "      <td>Moscow</td>\n",
       "      <td>17125200</td>\n",
       "      <td>8.403413</td>\n",
       "      <td>0.19</td>\n",
       "    </tr>\n",
       "  </tbody>\n",
       "</table>\n",
       "</div>"
      ],
      "text/plain": [
       "         Population Capital      Area  Population Density  Debt-to-GDP Ratio\n",
       "Albania       23456  Tirana     28748            0.815918                NaN\n",
       "France     65429495   Paris    643801          101.629999                NaN\n",
       "Germany    82408706  Berlin    357386          230.587393                NaN\n",
       "Japan     126922333   Tokyo    377972          335.798242               2.36\n",
       "Russia    143910127  Moscow  17125200            8.403413               0.19"
      ]
     },
     "execution_count": 27,
     "metadata": {},
     "output_type": "execute_result"
    }
   ],
   "source": [
    "debt = pd.Series([0.19, 2.36], index=['Russia', 'Japan'])\n",
    "df['Debt-to-GDP Ratio'] = debt\n",
    "df"
   ]
  },
  {
   "cell_type": "markdown",
   "metadata": {},
   "source": [
    "# Eliminar columnas\n",
    "con el metodo del"
   ]
  },
  {
   "cell_type": "code",
   "execution_count": 28,
   "metadata": {},
   "outputs": [],
   "source": [
    "del df['Debt-to-GDP Ratio']\n"
   ]
  },
  {
   "cell_type": "code",
   "execution_count": 30,
   "metadata": {},
   "outputs": [
    {
     "data": {
      "text/html": [
       "<div>\n",
       "<style scoped>\n",
       "    .dataframe tbody tr th:only-of-type {\n",
       "        vertical-align: middle;\n",
       "    }\n",
       "\n",
       "    .dataframe tbody tr th {\n",
       "        vertical-align: top;\n",
       "    }\n",
       "\n",
       "    .dataframe thead th {\n",
       "        text-align: right;\n",
       "    }\n",
       "</style>\n",
       "<table border=\"1\" class=\"dataframe\">\n",
       "  <thead>\n",
       "    <tr style=\"text-align: right;\">\n",
       "      <th></th>\n",
       "      <th>Albania</th>\n",
       "      <th>France</th>\n",
       "      <th>Germany</th>\n",
       "      <th>Japan</th>\n",
       "      <th>Russia</th>\n",
       "    </tr>\n",
       "  </thead>\n",
       "  <tbody>\n",
       "    <tr>\n",
       "      <th>Population</th>\n",
       "      <td>23456</td>\n",
       "      <td>65429495</td>\n",
       "      <td>82408706</td>\n",
       "      <td>126922333</td>\n",
       "      <td>143910127</td>\n",
       "    </tr>\n",
       "    <tr>\n",
       "      <th>Capital</th>\n",
       "      <td>Tirana</td>\n",
       "      <td>Paris</td>\n",
       "      <td>Berlin</td>\n",
       "      <td>Tokyo</td>\n",
       "      <td>Moscow</td>\n",
       "    </tr>\n",
       "    <tr>\n",
       "      <th>Area</th>\n",
       "      <td>28748</td>\n",
       "      <td>643801</td>\n",
       "      <td>357386</td>\n",
       "      <td>377972</td>\n",
       "      <td>17125200</td>\n",
       "    </tr>\n",
       "    <tr>\n",
       "      <th>Population Density</th>\n",
       "      <td>0.815918</td>\n",
       "      <td>101.629999</td>\n",
       "      <td>230.587393</td>\n",
       "      <td>335.798242</td>\n",
       "      <td>8.403413</td>\n",
       "    </tr>\n",
       "  </tbody>\n",
       "</table>\n",
       "</div>"
      ],
      "text/plain": [
       "                     Albania      France     Germany       Japan     Russia\n",
       "Population             23456    65429495    82408706   126922333  143910127\n",
       "Capital               Tirana       Paris      Berlin       Tokyo     Moscow\n",
       "Area                   28748      643801      357386      377972   17125200\n",
       "Population Density  0.815918  101.629999  230.587393  335.798242   8.403413"
      ]
     },
     "execution_count": 30,
     "metadata": {},
     "output_type": "execute_result"
    }
   ],
   "source": [
    "# La traspuesta de un df\n",
    "df.T"
   ]
  },
  {
   "cell_type": "markdown",
   "metadata": {},
   "source": [
    "# Crear dataFrame desde una matriz bidimensional de numpy"
   ]
  },
  {
   "cell_type": "code",
   "execution_count": 31,
   "metadata": {},
   "outputs": [
    {
     "data": {
      "text/html": [
       "<div>\n",
       "<style scoped>\n",
       "    .dataframe tbody tr th:only-of-type {\n",
       "        vertical-align: middle;\n",
       "    }\n",
       "\n",
       "    .dataframe tbody tr th {\n",
       "        vertical-align: top;\n",
       "    }\n",
       "\n",
       "    .dataframe thead th {\n",
       "        text-align: right;\n",
       "    }\n",
       "</style>\n",
       "<table border=\"1\" class=\"dataframe\">\n",
       "  <thead>\n",
       "    <tr style=\"text-align: right;\">\n",
       "      <th></th>\n",
       "      <th>random</th>\n",
       "      <th>example</th>\n",
       "    </tr>\n",
       "  </thead>\n",
       "  <tbody>\n",
       "    <tr>\n",
       "      <th>a</th>\n",
       "      <td>0.140228</td>\n",
       "      <td>0.215777</td>\n",
       "    </tr>\n",
       "    <tr>\n",
       "      <th>b</th>\n",
       "      <td>0.464517</td>\n",
       "      <td>0.123013</td>\n",
       "    </tr>\n",
       "    <tr>\n",
       "      <th>c</th>\n",
       "      <td>0.502159</td>\n",
       "      <td>0.826968</td>\n",
       "    </tr>\n",
       "  </tbody>\n",
       "</table>\n",
       "</div>"
      ],
      "text/plain": [
       "     random   example\n",
       "a  0.140228  0.215777\n",
       "b  0.464517  0.123013\n",
       "c  0.502159  0.826968"
      ]
     },
     "execution_count": 31,
     "metadata": {},
     "output_type": "execute_result"
    }
   ],
   "source": [
    "pd.DataFrame(np.random.rand(3, 2),\n",
    "             columns=['random', 'example'],\n",
    "             index=['a', 'b', 'c'])"
   ]
  }
 ],
 "metadata": {
  "interpreter": {
   "hash": "275f955775ecec3fc0cf075b74850b2183bc3dc229457e35564b43684db7dd2f"
  },
  "kernelspec": {
   "display_name": "Python 3.7.3 ('envi': venv)",
   "language": "python",
   "name": "python3"
  },
  "language_info": {
   "codemirror_mode": {
    "name": "ipython",
    "version": 3
   },
   "file_extension": ".py",
   "mimetype": "text/x-python",
   "name": "python",
   "nbconvert_exporter": "python",
   "pygments_lexer": "ipython3",
   "version": "3.7.3"
  },
  "orig_nbformat": 4
 },
 "nbformat": 4,
 "nbformat_minor": 2
}
