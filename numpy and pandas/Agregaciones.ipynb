{
 "cells": [
  {
   "cell_type": "markdown",
   "metadata": {},
   "source": [
    "#### Agregaciones\n",
    "Siempre se va a calcular las estadisticas, entre ellas están la media, la desviacion estandar, suma, mediana, minimo, maximo entre otros."
   ]
  },
  {
   "cell_type": "markdown",
   "metadata": {},
   "source": [
    "#### Suma de los valores de una matriz"
   ]
  },
  {
   "cell_type": "code",
   "execution_count": 2,
   "metadata": {},
   "outputs": [
    {
     "name": "stdout",
     "output_type": "stream",
     "text": [
      "140\n"
     ]
    }
   ],
   "source": [
    "import numpy as np\n",
    "list=np.array([1,2,3,1,3,5,3,5,77,5,4,3,23,2,3])\n",
    "print(np.sum(list))"
   ]
  },
  {
   "cell_type": "markdown",
   "metadata": {},
   "source": [
    "### Min y Máx"
   ]
  },
  {
   "cell_type": "code",
   "execution_count": 3,
   "metadata": {},
   "outputs": [
    {
     "name": "stdout",
     "output_type": "stream",
     "text": [
      "1\n",
      "77\n"
     ]
    }
   ],
   "source": [
    "print(np.min(list))\n",
    "print(np.max(list))"
   ]
  },
  {
   "cell_type": "markdown",
   "metadata": {},
   "source": [
    "#### Agregados multidimencionales"
   ]
  },
  {
   "cell_type": "code",
   "execution_count": 5,
   "metadata": {},
   "outputs": [
    {
     "name": "stdout",
     "output_type": "stream",
     "text": [
      "[[0.52114569 0.55256857 0.42875619 0.14069558]\n",
      " [0.13746716 0.11301812 0.86690731 0.09040527]\n",
      " [0.43634274 0.61086684 0.69055899 0.99712766]]\n"
     ]
    },
    {
     "data": {
      "text/plain": [
       "5.58586011490424"
      ]
     },
     "execution_count": 5,
     "metadata": {},
     "output_type": "execute_result"
    }
   ],
   "source": [
    "md = np.random.random((3, 4))\n",
    "print(md)\n",
    "md.sum() #Suma tooodos los valores"
   ]
  },
  {
   "cell_type": "markdown",
   "metadata": {},
   "source": [
    "Las funciones de agregación toman un argumento adicional que especifica el eje a lo largo del que se calcula la agregación. Por ejemplo, se puede buscar el valor mínimo dentro de cada columna si se especifica axis=0:\n",
    "axis especifica la dimensión de la matriz que se va a contraer"
   ]
  },
  {
   "cell_type": "code",
   "execution_count": 9,
   "metadata": {},
   "outputs": [
    {
     "name": "stdout",
     "output_type": "stream",
     "text": [
      "[0.13746716 0.11301812 0.42875619 0.09040527]\n",
      "[0.14069558 0.09040527 0.43634274]\n",
      "[0.52114569 0.61086684 0.86690731 0.99712766]\n",
      "[0.55256857 0.86690731 0.99712766]\n"
     ]
    }
   ],
   "source": [
    "print(md.min(axis=0))#minimo numero por cada columna(variable) de la matriz\n",
    "print(md.min(axis=1))#minimo numero por cada fila(registro) de la matriz\n",
    "print(md.max(axis=0))#maximo numero por cada columna(variable) de la matriz\n",
    "print(md.max(axis=1))#maximo numero por cada fila(registro) de la matriz"
   ]
  },
  {
   "cell_type": "markdown",
   "metadata": {},
   "source": [
    "np.sum\tnp.nansum\tCalcula la suma de los elementos\n",
    "\n",
    "np.prod\tnp.nanprod\tCalcula el producto de los elementos\n",
    "\n",
    "np.mean\tnp.nanmean\tCalcula el promedio de los elementos\n",
    "\n",
    "np.std\tnp.nanstd\tCalcula la desviación estándar\n",
    "\n",
    "np.var\tnp.nanvar\tCalcula la varianza\n",
    "\n",
    "np.min\tnp.nanmin\tBusca el valor mínimo\n",
    "\n",
    "np.max\tnp.nanmax\tBusca el valor máximo\n",
    "\n",
    "np.argmin\tnp.nanargmin\tBusca el índice del valor mínimo\n",
    "\n",
    "np.argmax\tnp.nanargmax\tBusca el índice del valor máximo\n",
    "\n",
    "np.median\tnp.nanmedian\tCalcula la mediana de los elementos\n",
    "\n",
    "np.percentile\tnp.nanpercentile\tCalcula estadísticas basadas en clasificaciones de los elementos\n",
    "\n",
    "np.any\tNo aplicable\tEvalúa si alguno de los elementos es true\n",
    "\n",
    "np.all\tNo aplicable\tEvalúa si todos los elementos son true"
   ]
  }
 ],
 "metadata": {
  "interpreter": {
   "hash": "275f955775ecec3fc0cf075b74850b2183bc3dc229457e35564b43684db7dd2f"
  },
  "kernelspec": {
   "display_name": "Python 3.7.3 ('envi': venv)",
   "language": "python",
   "name": "python3"
  },
  "language_info": {
   "codemirror_mode": {
    "name": "ipython",
    "version": 3
   },
   "file_extension": ".py",
   "mimetype": "text/x-python",
   "name": "python",
   "nbconvert_exporter": "python",
   "pygments_lexer": "ipython3",
   "version": "3.7.3"
  },
  "orig_nbformat": 4
 },
 "nbformat": 4,
 "nbformat_minor": 2
}
