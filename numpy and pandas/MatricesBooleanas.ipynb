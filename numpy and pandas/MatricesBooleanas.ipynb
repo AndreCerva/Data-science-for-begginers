{
 "cells": [
  {
   "cell_type": "markdown",
   "metadata": {},
   "source": [
    "#### Uso de matrices booleanas"
   ]
  },
  {
   "cell_type": "code",
   "execution_count": 5,
   "metadata": {},
   "outputs": [
    {
     "name": "stdout",
     "output_type": "stream",
     "text": [
      "[[2 7 6]\n",
      " [7 8 4]\n",
      " [2 7 9]]\n"
     ]
    }
   ],
   "source": [
    "#Matriz de dos dimensiones\n",
    "import numpy as np\n",
    "two_dim_matrix =np.random.randint(0,10(3,3))\n",
    "print(two_dim_matrix)"
   ]
  },
  {
   "cell_type": "markdown",
   "metadata": {},
   "source": [
    "## ¿Cuantos valores son menores que 6?"
   ]
  },
  {
   "cell_type": "code",
   "execution_count": 7,
   "metadata": {},
   "outputs": [
    {
     "data": {
      "text/plain": [
       "3"
      ]
     },
     "execution_count": 7,
     "metadata": {},
     "output_type": "execute_result"
    }
   ],
   "source": [
    "np.count_nonzero(two_dim_matrix < 6) #False se interpreta como 1 y True como 0\n",
    "np.sum(two_dim_matrix < 6) #Suma de los elementos menores a 6 False como 0 y True como 1"
   ]
  },
  {
   "cell_type": "markdown",
   "metadata": {},
   "source": [
    "##### La ventaja de sum es que se puede usar para filas como para cada columna"
   ]
  },
  {
   "cell_type": "code",
   "execution_count": 11,
   "metadata": {},
   "outputs": [
    {
     "name": "stdout",
     "output_type": "stream",
     "text": [
      "Columas: [2 0 1] \n",
      "\n",
      "Filas: [1 1 1] \n"
     ]
    }
   ],
   "source": [
    "print(f\"Columas: {np.sum(two_dim_matrix < 6, axis = 0)} \\n\") #Suma de los elementos mayores a 6 en cada columna\n",
    "print(f\"Filas: {np.sum(two_dim_matrix < 6, axis = 1)} \") #Suma de los elementos mayores a 6 en cada fila"
   ]
  },
  {
   "cell_type": "markdown",
   "metadata": {},
   "source": [
    "### ¿Hay algun valor menor que 6?"
   ]
  },
  {
   "cell_type": "code",
   "execution_count": 13,
   "metadata": {},
   "outputs": [
    {
     "data": {
      "text/plain": [
       "True"
      ]
     },
     "execution_count": 13,
     "metadata": {},
     "output_type": "execute_result"
    }
   ],
   "source": [
    "np.any(two_dim_matrix<6) #True si algun elemento es menor a 6"
   ]
  },
  {
   "cell_type": "markdown",
   "metadata": {},
   "source": [
    "### Operadores Logicos\n",
    "&\tnp.bitwise_and\n",
    "\n",
    "|\tnp.bitwise_or\n",
    "\n",
    "^\tnp.bitwise_xor\n",
    "\n",
    "~\tnp.bitwise_not"
   ]
  },
  {
   "cell_type": "markdown",
   "metadata": {},
   "source": [
    "### Matrices Booleanas como mascaras"
   ]
  },
  {
   "cell_type": "code",
   "execution_count": 15,
   "metadata": {},
   "outputs": [
    {
     "data": {
      "text/plain": [
       "array([[2, 7, 6],\n",
       "       [7, 8, 4],\n",
       "       [2, 7, 9]])"
      ]
     },
     "execution_count": 15,
     "metadata": {},
     "output_type": "execute_result"
    }
   ],
   "source": [
    "two_dim_matrix"
   ]
  },
  {
   "cell_type": "code",
   "execution_count": 16,
   "metadata": {},
   "outputs": [
    {
     "data": {
      "text/plain": [
       "array([[ True, False, False],\n",
       "       [False, False,  True],\n",
       "       [ True, False, False]])"
      ]
     },
     "execution_count": 16,
     "metadata": {},
     "output_type": "execute_result"
    }
   ],
   "source": [
    "# Obteniendo una matriz booleana de todos los valores menores a 5\n",
    "two_dim_matrix < 5"
   ]
  },
  {
   "cell_type": "code",
   "execution_count": 17,
   "metadata": {},
   "outputs": [
    {
     "data": {
      "text/plain": [
       "array([2, 4, 2])"
      ]
     },
     "execution_count": 17,
     "metadata": {},
     "output_type": "execute_result"
    }
   ],
   "source": [
    "# Indexar una matriz booleana por la condicion de menores a 5 (ennascaramiento)\n",
    "two_dim_matrix[two_dim_matrix < 5]"
   ]
  },
  {
   "cell_type": "code",
   "execution_count": null,
   "metadata": {},
   "outputs": [],
   "source": [
    "# Construct a mask of all rainy months\n",
    "rainy = (rainfall_2003 > 0)\n",
    "\n",
    "# Construct a mask of all summer months (June through September)\n",
    "months = np.arange(1, 13)\n",
    "summer = (months > 5) & (months < 10)\n",
    "\n",
    "print(\"Median precip in rainy months in 2003 (inches):   \",\n",
    "      np.median(rainfall_2003[rainy]))\n",
    "print(\"Median precip in summer months in 2003 (inches):  \",\n",
    "      np.median(rainfall_2003[summer]))\n",
    "print(\"Maximum precip in summer months in 2003 (inches): \",\n",
    "      np.max(rainfall_2003[summer]))\n",
    "print(\"Median precip in non-summer rainy months (inches):\",\n",
    "      np.median(rainfall_2003[rainy & ~summer]))"
   ]
  }
 ],
 "metadata": {
  "interpreter": {
   "hash": "275f955775ecec3fc0cf075b74850b2183bc3dc229457e35564b43684db7dd2f"
  },
  "kernelspec": {
   "display_name": "Python 3.7.3 ('envi': venv)",
   "language": "python",
   "name": "python3"
  },
  "language_info": {
   "codemirror_mode": {
    "name": "ipython",
    "version": 3
   },
   "file_extension": ".py",
   "mimetype": "text/x-python",
   "name": "python",
   "nbconvert_exporter": "python",
   "pygments_lexer": "ipython3",
   "version": "3.7.3"
  },
  "orig_nbformat": 4
 },
 "nbformat": 4,
 "nbformat_minor": 2
}
